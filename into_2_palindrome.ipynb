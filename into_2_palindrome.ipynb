{
 "cells": [
  {
   "cell_type": "code",
   "execution_count": null,
   "id": "52754a9f-7dc6-4eb4-9f9d-59e46af33a98",
   "metadata": {},
   "outputs": [],
   "source": [
    "Part 1: Letting People In ⭐\n",
    "A stakeholder is interested in developing a palidrome checker-they wonder if it's possible to let someone type in a number or word and check if it's a palindrome. Iterate your code to make this possible. An ideal output might be:\n",
    "\n",
    "Please enter your number or phrase: banana Checking...\n",
    "\n",
    "banana is not a palindrome.\n",
    "\n",
    "Please enter your number or phrase: 1331 Checking...\n",
    "\n",
    "1331 is a palindrome."
   ]
  },
  {
   "cell_type": "code",
   "execution_count": null,
   "id": "b8c4d37c-2a91-499d-9b96-16cd9635ea28",
   "metadata": {},
   "outputs": [],
   "source": [
    "# need to use string slicing to reverse the characters of a string [::-1]\n",
    "# then compare that to the original - if they are the same, then its a palindrome"
   ]
  },
  {
   "cell_type": "code",
   "execution_count": 23,
   "id": "59b5cd89-2ac0-4295-9637-d99476910c87",
   "metadata": {},
   "outputs": [
    {
     "name": "stdin",
     "output_type": "stream",
     "text": [
      "Please enter your number or phrase: 129\n"
     ]
    },
    {
     "name": "stdout",
     "output_type": "stream",
     "text": [
      "Checking..\n",
      "129 Not a palindrome\n"
     ]
    }
   ],
   "source": [
    "string=input(\"Please enter your number or phrase:\")  #Enter Variable String\n",
    "print(\"Checking..\")\n",
    "if(string==string[::-1]): #compare the entered variable to its sliced reverse\n",
    "      print(\"The string is a palindrome\") #if true, then output this message\n",
    "else:\n",
    "      print(string + \" Not a palindrome\") #if false, then output this message"
   ]
  },
  {
   "cell_type": "code",
   "execution_count": null,
   "id": "b91f1d3f-ab4b-4d1c-846b-b9a43e41d4b1",
   "metadata": {},
   "outputs": [],
   "source": [
    "# place that inside a function so we can call it"
   ]
  },
  {
   "cell_type": "code",
   "execution_count": 27,
   "id": "86b89f55-6ae9-43ab-bb9d-0a8441b59c55",
   "metadata": {},
   "outputs": [
    {
     "name": "stdin",
     "output_type": "stream",
     "text": [
      "Please enter your number or phrase: 122\n"
     ]
    },
    {
     "name": "stdout",
     "output_type": "stream",
     "text": [
      "Checking..\n",
      "121 Not a palindrome\n"
     ]
    }
   ],
   "source": [
    "def is_palindrome(string): #defiuned a funtion\n",
    "    return str(string) == str(string)[::-1] #check if string is equal to its reverse - using slicing method\n",
    "\n",
    "user_input=input(\"Please enter your number or phrase:\")  #Enter Variable String\n",
    "print(\"Checking..\")\n",
    "if is_palindrome(user_input): #calls function with user_input variable as paramater\n",
    "    print(string + \" is a palindrome.\")\n",
    "else:\n",
    "    print(string + \" Not a palindrome\") #if false, then output this message\n",
    "    \n",
    "\n"
   ]
  },
  {
   "cell_type": "code",
   "execution_count": null,
   "id": "48623ee7-31e4-4660-8b6f-674c120c85ce",
   "metadata": {},
   "outputs": [],
   "source": [
    "Part 2: Numbers and Palindromes\n",
    "The palindrome checker is great, but the feedback as been that, with numbers, it would be great to see how the palindromes that exist between two sets of numbers-for example how many exist between the numbers 99 and 125.\n",
    "\n",
    "When complete, the user should be able to enter a start and end number. The output should read: The <number> of palindromes between <start number> and <end number>  are: ... and display the list of palindromes between those two numbers.\n",
    "\n",
    "You can try this with the number 98 and 126-there should be 4 palindroms that exist."
   ]
  },
  {
   "cell_type": "code",
   "execution_count": null,
   "id": "c2c01417-6ed9-4c70-b316-55e3d51e2dce",
   "metadata": {},
   "outputs": [],
   "source": [
    "# need to define a new function to take 2 parameters - the range of numbers - then use a for loop to go thru\n",
    "# all the range and use every range number as parameter for is_palindrome function. if true, then append to the palindromes list"
   ]
  },
  {
   "cell_type": "code",
   "execution_count": 46,
   "id": "b44a6616-a95c-4dde-833d-b8625261a2fb",
   "metadata": {},
   "outputs": [
    {
     "name": "stdin",
     "output_type": "stream",
     "text": [
      "Enter a start number:  100\n",
      "Enter an end number:  100\n"
     ]
    },
    {
     "name": "stdout",
     "output_type": "stream",
     "text": [
      "No palindromes found between 100 and 100\n"
     ]
    }
   ],
   "source": [
    "def is_palindrome(string): #defiuned a funtion\n",
    "    return str(string) == str(string)[::-1] #check if string is equal to its reverse - using slicing method\n",
    "    \n",
    "def find_palindromes_in_range(start, end): # defines a function named find_palindromes_in_range that takes two parameters, start and end, representing the range of numbers to check for palindromes\n",
    "    palindromes = [] # Initializes an empty list named palindromes to store the palindromic numbers found in the specified range\n",
    "    for num in range(start, end + 1): #Initiates a for loop that iterates through each number (num) in the range\n",
    "        num_str = str(num) #Converts the current number (num) to its string representation and assigns it to the variable num_str. Tto easily check if the number is a palindrome by treating it as a string\n",
    "        if is_palindrome(num_str): # checks if the string representation of the current number is a palindrome by calling the is_palindrome function\n",
    "            palindromes.append(num) # If the current number is a palindrome, it is appended to the palindromes list\n",
    "    return palindromes # Once all numbers in the specified range have been checked, the function returns the list of palindromic numbers\n",
    "\n",
    "start_range = int(input(\"Enter a start number: \"))\n",
    "end_range = int(input(\"Enter an end number: \"))\n",
    "\n",
    "result = find_palindromes_in_range(start_range, end_range) # use user defined start and end range as parameters\n",
    "num_palindromes = len(result) # uses len function to calculate number of elements within reult\n",
    "\n",
    "if num_palindromes > 0:\n",
    "    print(\"The number of palindromes between \" + str(start_range) + \" and \" + str(end_range) + \" are: \" + str(num_palindromes))\n",
    "    print(\"Palindromes between \" + str(start_range) + \" and \" + str(end_range) + \" are: \" + str(result))\n",
    "else:\n",
    "    print(\"No palindromes found between \" + str(start_range) + \" and \" + str(end_range))"
   ]
  },
  {
   "cell_type": "code",
   "execution_count": null,
   "id": "f1769d6e-e747-4097-9de6-2ab35e226345",
   "metadata": {},
   "outputs": [],
   "source": [
    "Part 3: Suggesting palindromes ⭐ ⭐\n",
    "The stakeholder has returned! This time, they would like your app to suggest palidromes to people based on their input (a very demanding stakeholder!). They would like it so that if the word or number isn't a palidrome, your app can create a palidrome based on it. For example:\n",
    "\n",
    "Please enter your number or phrase: banana Checking...\n",
    "\n",
    "banana is not a palindrome, but bananab is.\n",
    "\n",
    "Please enter your number or phrase: 99199 Checking...\n",
    "\n",
    "99199 is a palindrome"
   ]
  },
  {
   "cell_type": "code",
   "execution_count": null,
   "id": "b878c0e2-d08a-4a7d-954d-d903a7b8ab7a",
   "metadata": {},
   "outputs": [],
   "source": [
    "# the only idea for suggested plaindromes is if we take a string, reverse it, then append the reverse to\n",
    "# the original string and use that as a suggested plaindrome\n",
    "# will need to define a function to concatenate the original string to its reverse\n"
   ]
  },
  {
   "cell_type": "code",
   "execution_count": null,
   "id": "8e60bb9c-3e98-4116-9285-a16bbc0c9486",
   "metadata": {},
   "outputs": [],
   "source": [
    "def suggest_palindrome(string):\n",
    "    reversed_str = string[::-1]\n",
    "    suggested_palindrome = s + reversed_str # concatenate the original string to its reverse\n",
    "    return suggested_palindrome"
   ]
  },
  {
   "cell_type": "code",
   "execution_count": 65,
   "id": "626309b4-b656-470b-8df5-e667d6fcbdfc",
   "metadata": {},
   "outputs": [
    {
     "name": "stdin",
     "output_type": "stream",
     "text": [
      "Please enter your number or phrase:  129\n"
     ]
    },
    {
     "name": "stdout",
     "output_type": "stream",
     "text": [
      "Checking..\n",
      "129 Not a palindrome, but 129921 is\n"
     ]
    }
   ],
   "source": [
    "def is_palindrome(string): #defined a funtion\n",
    "    return str(string) == str(string)[::-1] #check if string is equal to its reverse - using slicing method\n",
    "\n",
    "def suggest_palindrome(string):\n",
    "    reversed_str = string[::-1] # reverses string using slicing method\n",
    "    suggested_palindrome = string + reversed_str # concatenate the original string to its reverse \n",
    "    return suggested_palindrome\n",
    "\n",
    "user_input = input(\"Please enter your number or phrase: \") #user_input is a variable inputted \n",
    "print(\"Checking..\")\n",
    "\n",
    "if is_palindrome(user_input): #checks if palindrom by calling function with user_input variable as paramater\n",
    "    print(user_input + \" is a palindrome.\")\n",
    "else:\n",
    "    suggested_palindrome = suggest_palindrome(user_input) # uses user_input as parameter in the suggested_palindrom function\n",
    "    print(user_input + \" Not a palindrome,\" , end=\"\")\n",
    "    print(\" but \" + str(suggested_palindrome) + \" is\")\n",
    "\n"
   ]
  },
  {
   "cell_type": "code",
   "execution_count": null,
   "id": "f82b4841-2068-4f09-830b-b5fd5073aaab",
   "metadata": {},
   "outputs": [],
   "source": []
  }
 ],
 "metadata": {
  "kernelspec": {
   "display_name": "Python 3 (ipykernel)",
   "language": "python",
   "name": "python3"
  },
  "language_info": {
   "codemirror_mode": {
    "name": "ipython",
    "version": 3
   },
   "file_extension": ".py",
   "mimetype": "text/x-python",
   "name": "python",
   "nbconvert_exporter": "python",
   "pygments_lexer": "ipython3",
   "version": "3.11.5"
  }
 },
 "nbformat": 4,
 "nbformat_minor": 5
}
